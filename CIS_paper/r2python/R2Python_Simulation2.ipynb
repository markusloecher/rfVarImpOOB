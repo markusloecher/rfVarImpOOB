{
 "cells": [
  {
   "cell_type": "code",
   "execution_count": 1,
   "metadata": {
    "colab": {
     "base_uri": "https://localhost:8080/",
     "height": 391
    },
    "colab_type": "code",
    "id": "D2jKyNyKBcWu",
    "outputId": "0c203579-f039-449b-a19f-11349eb6413c"
   },
   "outputs": [],
   "source": [
    "#!pip install shap"
   ]
  },
  {
   "cell_type": "code",
   "execution_count": 51,
   "metadata": {},
   "outputs": [
    {
     "name": "stdout",
     "output_type": "stream",
     "text": [
      "<class 'numpy.int64'>\n",
      "<class 'numpy.int64'>\n",
      "<class 'numpy.int64'>\n",
      "<class 'numpy.int64'>\n",
      "<class 'numpy.int64'>\n"
     ]
    },
    {
     "data": {
      "text/plain": [
       "array([1, 3, 6, 7, 8], dtype=int64)"
      ]
     },
     "execution_count": 51,
     "metadata": {},
     "output_type": "execute_result"
    }
   ],
   "source": [
    "allXs = []\n",
    "p=10\n",
    "N=20\n",
    "\n",
    "for i in range(p):\n",
    "    allXs.append([np.random.randint(0, 10, N)])#i+2\n",
    "    \n",
    "rlvFtrs = np.array([0] * p)\n",
    "  # rlvFtrs[np.random.randint(1, 11, 5)] = 1\n",
    "rlvFtrs[np.random.choice(range(0, 10), 5, replace=False)] = 1\n",
    "\n",
    "Xrlv = np.array([0]*N) \n",
    "\n",
    "for k in (np.where(rlvFtrs == 1)[0]):\n",
    "    Xrlv = Xrlv + allXs[k]/(k+1)\n",
    "    #print(type(k))\n",
    "\n",
    "#np.where(rlvFtrs == 1)[0]"
   ]
  },
  {
   "cell_type": "code",
   "execution_count": 26,
   "metadata": {
    "colab": {},
    "colab_type": "code",
    "id": "GHdppbK2Bhz_"
   },
   "outputs": [],
   "source": [
    "import random\n",
    "import numpy as np\n",
    "import pandas as pd\n",
    "import matplotlib.pyplot as plt\n",
    "\n",
    "\n",
    "import shap \n",
    "\n",
    "import time\n",
    "\n",
    "from scipy.stats import logistic\n",
    "\n",
    "from sklearn.model_selection import train_test_split\n",
    "from sklearn import preprocessing\n",
    "from sklearn.ensemble import RandomForestRegressor\n",
    "from sklearn import metrics"
   ]
  },
  {
   "cell_type": "code",
   "execution_count": null,
   "metadata": {},
   "outputs": [],
   "source": []
  },
  {
   "cell_type": "code",
   "execution_count": 27,
   "metadata": {
    "colab": {},
    "colab_type": "code",
    "id": "brw-X0xkBi7N"
   },
   "outputs": [],
   "source": [
    "def SimulateData_simple(N=1000, # number of rows in data\n",
    "                        p=50, # number of simulations\n",
    "                        K = 5, # number of informative features, must be less than p !\n",
    "                        relevance = 0.15, # signal srength (0 for NULL)\n",
    "                        #  prevResults= NULL, #legacy, not used\n",
    "                        ntree = 100, #number of trees in forest\n",
    "                        #correctBias = c(inbag=TRUE,outbag=TRUE),\n",
    "                        verbose=0,\n",
    "                        n_features = 2):\n",
    "  \n",
    "  #VERY dangerous to put this into the function\n",
    "  #random.seed(123)\n",
    "\n",
    "  shap_avs = np.array([0,0,0,0,0]) # Initializes the first array\n",
    "  ft_importances = np.array([0,0,0,0,0]) # Initializes the first array\n",
    "  shap_vals = np.array([0,0,0,0,0]) # Initializes the first array\n",
    "  allDFs = [] # List of DFs that will be filled\n",
    "\n",
    "\n",
    "  allXs = []\n",
    "\n",
    "  for i in range(p):\n",
    "    allXs.append([np.random.randint(0, i+2, N)])\n",
    "  \n",
    "  rlvFtrs = np.array([0] * p)\n",
    "  # rlvFtrs[np.random.randint(1, 11, 5)] = 1\n",
    "  rlvFtrs[np.random.choice(range(0, 10), K, replace=False)] = 1\n",
    "  position = np.where(rlvFtrs == 1)[0]\n",
    "\n",
    "  Xrlv = np.array([0]*N) \n",
    "\n",
    "  for k in (np.where(rlvFtrs == 1)[0]):\n",
    "    Xrlv = Xrlv + allXs[k]#/(k+1)\n",
    "\n",
    "  if verbose:\n",
    "        print(rlvFtrs)\n",
    "        print(position)\n",
    "        return(Xrlv,allXs,rlvFtrs)\n",
    "        \n",
    "  y = np.array([]) \n",
    "\n",
    "  for i in range(N):\n",
    "    y = np.append(y, np.random.binomial(n = 1, p = logistic.cdf(2*Xrlv[0][i]/5 - 1), size = 1))\n",
    "\n",
    "  x_train = pd.DataFrame(np.concatenate(allXs).reshape(N, p, order='F')) \n",
    "\n",
    "\n",
    "  rf = RandomForestRegressor(max_depth=50, random_state=0, n_estimators=ntree,max_features=n_features) \n",
    "  rf.fit(x_train, y)\n",
    "  feature_importances = rf.feature_importances_\n",
    "  # print(feature_importances)\n",
    "  \n",
    "  shap_values = shap.TreeExplainer(rf).shap_values(x_train)\n",
    "  shap_averages = np.sum(np.absolute(shap_values), axis=0)\n",
    "\n",
    "  '''\n",
    "  shap_vals = np.vstack((shap_vals, shap_values))\n",
    "  shap_avs = np.vstack((shap_avs, shap_averages))\n",
    "  ft_importances = np.vstack((ft_importances, feature_importances))\n",
    "  allDFs.append(x_train)\n",
    "  \n",
    "  shap_vals = np.delete(shap_vals, (0), axis=0) # Deletes the initialization\n",
    "  shap_avs = np.delete(shap_avs, (0), axis=0) # Deletes the initialization\n",
    "  ft_importances = np.delete(ft_importances, (0), axis=0) # Deletes the initialization\n",
    "  '''\n",
    "\n",
    "  return(shap_values, shap_averages, feature_importances, x_train, rlvFtrs)\n"
   ]
  },
  {
   "cell_type": "code",
   "execution_count": 40,
   "metadata": {
    "scrolled": true
   },
   "outputs": [
    {
     "name": "stdout",
     "output_type": "stream",
     "text": [
      "[0 0 1 0 1 0 0 0 1 0]\n",
      "[2 4 8]\n"
     ]
    }
   ],
   "source": [
    "#shap_values, shap_averages, feature_importances, x_train, rlvFtrs \n",
    "Xrlv,allXs,rlvFtrs = SimulateData_simple(N=10,p=10,K= 3, verbose=1)"
   ]
  },
  {
   "cell_type": "code",
   "execution_count": 41,
   "metadata": {},
   "outputs": [
    {
     "data": {
      "text/plain": [
       "array([1.32455477, 1.90176433, 1.16427315])"
      ]
     },
     "execution_count": 41,
     "metadata": {},
     "output_type": "execute_result"
    }
   ],
   "source": [
    "shap_averages[np.where(rlvFtrs == 1)[0]]"
   ]
  },
  {
   "cell_type": "code",
   "execution_count": 37,
   "metadata": {},
   "outputs": [
    {
     "data": {
      "text/plain": [
       "array([0.01888745, 0.02472592, 0.01605772, 0.01797526, 0.01723439])"
      ]
     },
     "execution_count": 37,
     "metadata": {},
     "output_type": "execute_result"
    }
   ],
   "source": [
    "feature_importances[np.where(rlvFtrs == 1)[0]]"
   ]
  },
  {
   "cell_type": "code",
   "execution_count": 38,
   "metadata": {},
   "outputs": [
    {
     "data": {
      "text/plain": [
       "array([0.01994722, 0.01762622, 0.01704888, 0.01821848, 0.01880401,\n",
       "       0.02419638, 0.02037766, 0.01987565, 0.02380255, 0.02188506,\n",
       "       0.02051598, 0.01986691, 0.02346083, 0.02092725, 0.01759662,\n",
       "       0.02199408, 0.02108522, 0.02179643, 0.01098787, 0.02345997,\n",
       "       0.02189089, 0.0189979 , 0.02253153, 0.02014326, 0.01591533,\n",
       "       0.02049717, 0.01639522, 0.01636477, 0.01770236, 0.01954164,\n",
       "       0.01927798, 0.02359276, 0.0208788 , 0.01923642, 0.02681836,\n",
       "       0.01641377, 0.01849903, 0.01965129, 0.02335932, 0.02235209,\n",
       "       0.02089306, 0.02071195, 0.01540556, 0.02732769, 0.01724785])"
      ]
     },
     "execution_count": 38,
     "metadata": {},
     "output_type": "execute_result"
    }
   ],
   "source": [
    "feature_importances[np.where(rlvFtrs == 0)[0]]"
   ]
  },
  {
   "cell_type": "code",
   "execution_count": 52,
   "metadata": {},
   "outputs": [
    {
     "name": "stdout",
     "output_type": "stream",
     "text": [
      "[array([7, 0, 1, 3, 5, 5, 1, 9, 2, 9, 8, 4, 2, 8, 1, 4, 8, 2, 1, 4])]\n",
      "[array([2, 1, 0, 6, 5, 3, 2, 6, 7, 9, 5, 6, 8, 7, 4, 3, 5, 6, 4, 7])]\n",
      "[array([9, 6, 7, 0, 0, 7, 2, 0, 3, 7, 6, 8, 5, 4, 8, 7, 0, 6, 6, 1])]\n",
      "[array([1, 7, 5, 1, 5, 9, 2, 7, 6, 7, 8, 4, 6, 0, 4, 9, 6, 8, 7, 3])]\n",
      "[array([7, 3, 5, 3, 5, 6, 1, 4, 5, 6, 4, 7, 2, 2, 4, 1, 4, 0, 4, 3])]\n"
     ]
    }
   ],
   "source": [
    "for k in (np.where(rlvFtrs == 1)[0]):\n",
    "    print(allXs[k])"
   ]
  },
  {
   "cell_type": "code",
   "execution_count": 63,
   "metadata": {
    "scrolled": true
   },
   "outputs": [
    {
     "name": "stdout",
     "output_type": "stream",
     "text": [
      "[[6.18849206 2.31547619 2.68055556 3.45833333 4.93055556 6.04166667\n",
      "  1.6468254  7.31944444 4.48412698 9.29166667 7.5515873  5.92063492\n",
      "  4.68650794 6.54365079 3.58730159 4.98611111 6.44444444 4.35714286\n",
      "  3.6765873  4.60119048]]\n"
     ]
    }
   ],
   "source": [
    "Xrlv = np.array([0]*N) \n",
    "for k in (np.where(rlvFtrs == 1)[0]):\n",
    "    Xrlv = Xrlv + allXs[k]/(k+1)\n",
    "print(Xrlv)"
   ]
  },
  {
   "cell_type": "code",
   "execution_count": 62,
   "metadata": {},
   "outputs": [
    {
     "name": "stdout",
     "output_type": "stream",
     "text": [
      "6.188492063492063\n"
     ]
    },
    {
     "data": {
      "text/plain": [
       "array([1, 3, 6, 7, 8], dtype=int64)"
      ]
     },
     "execution_count": 62,
     "metadata": {},
     "output_type": "execute_result"
    }
   ],
   "source": [
    "print(7/2 + 2/4 + 9/7 + 1/8 + 7/9)\n",
    "np.where(rlvFtrs == 1)[0]"
   ]
  },
  {
   "cell_type": "code",
   "execution_count": 43,
   "metadata": {},
   "outputs": [
    {
     "name": "stdout",
     "output_type": "stream",
     "text": [
      "0.9308615796566533\n",
      "0.9852259683067269\n",
      "0.9852259683067269\n",
      "0.7310585786300049\n",
      "0.9002495108803148\n",
      "0.9308615796566533\n",
      "0.9677045353015495\n",
      "0.9677045353015495\n",
      "0.2689414213699951\n",
      "0.9969815836752917\n"
     ]
    }
   ],
   "source": [
    "for i in range(10):\n",
    "    print(logistic.cdf(2*Xrlv[0][i]/5 - 1))"
   ]
  },
  {
   "cell_type": "code",
   "execution_count": 18,
   "metadata": {
    "colab": {
     "base_uri": "https://localhost:8080/",
     "height": 147
    },
    "colab_type": "code",
    "id": "Dt32nyz2xcPM",
    "outputId": "cebddde8-c018-4f9d-b503-622171be43d2"
   },
   "outputs": [
    {
     "data": {
      "text/plain": [
       "RandomForestRegressor(bootstrap=True, ccp_alpha=0.0, criterion='mse',\n",
       "                      max_depth=50, max_features=2, max_leaf_nodes=None,\n",
       "                      max_samples=None, min_impurity_decrease=0.0,\n",
       "                      min_impurity_split=None, min_samples_leaf=1,\n",
       "                      min_samples_split=2, min_weight_fraction_leaf=0.0,\n",
       "                      n_estimators=50, n_jobs=None, oob_score=False,\n",
       "                      random_state=0, verbose=0, warm_start=False)"
      ]
     },
     "execution_count": 18,
     "metadata": {
      "tags": []
     },
     "output_type": "execute_result"
    }
   ],
   "source": [
    "#explorations:\n",
    "allXs = []\n",
    "\n",
    "for i in range(8):\n",
    "  allXs.append([np.random.randint(0, i+2, 100)])\n",
    "\n",
    "y= np.random.binomial(n = 1, p = 0.5, size = 100)\n",
    "x_train = pd.DataFrame(np.concatenate(allXs).reshape(100, 8, order='F'))\n",
    "x_train.shape\n",
    "\n",
    "rf = RandomForestRegressor(max_depth=50, random_state=0, n_estimators=50,max_features=2) \n",
    "rf.fit(x_train, y)"
   ]
  },
  {
   "cell_type": "code",
   "execution_count": 0,
   "metadata": {
    "colab": {},
    "colab_type": "code",
    "id": "hnpgGI2wyqPh"
   },
   "outputs": [],
   "source": [
    "import warnings\n",
    "warnings.filterwarnings('ignore')\n",
    "shap_values = shap.TreeExplainer(rf, feature_perturbation=\"tree_path_dependent\" ).shap_values(x_train)"
   ]
  },
  {
   "cell_type": "code",
   "execution_count": 15,
   "metadata": {
    "colab": {
     "base_uri": "https://localhost:8080/",
     "height": 249
    },
    "colab_type": "code",
    "id": "wLSfBmkfO9mk",
    "outputId": "65001c8a-5362-48b3-bb80-5730ab4bef76"
   },
   "outputs": [
    {
     "ename": "NameError",
     "evalue": "ignored",
     "output_type": "error",
     "traceback": [
      "\u001b[0;31m---------------------------------------------------------------------------\u001b[0m",
      "\u001b[0;31mNameError\u001b[0m                                 Traceback (most recent call last)",
      "\u001b[0;32m<ipython-input-15-dd4549e2d56e>\u001b[0m in \u001b[0;36m<module>\u001b[0;34m()\u001b[0m\n\u001b[1;32m      7\u001b[0m \u001b[0;32mfor\u001b[0m \u001b[0mi\u001b[0m \u001b[0;32min\u001b[0m \u001b[0mrange\u001b[0m\u001b[0;34m(\u001b[0m\u001b[0mnSims\u001b[0m\u001b[0;34m)\u001b[0m\u001b[0;34m:\u001b[0m\u001b[0;34m\u001b[0m\u001b[0;34m\u001b[0m\u001b[0m\n\u001b[1;32m      8\u001b[0m \u001b[0;34m\u001b[0m\u001b[0m\n\u001b[0;32m----> 9\u001b[0;31m   \u001b[0mfirst\u001b[0m\u001b[0;34m,\u001b[0m \u001b[0msecond\u001b[0m\u001b[0;34m,\u001b[0m \u001b[0mthird\u001b[0m\u001b[0;34m,\u001b[0m \u001b[0mfourth\u001b[0m\u001b[0;34m,\u001b[0m \u001b[0mfifth\u001b[0m \u001b[0;34m=\u001b[0m \u001b[0mSimulateData_simple\u001b[0m\u001b[0;34m(\u001b[0m\u001b[0mN\u001b[0m\u001b[0;34m=\u001b[0m\u001b[0;36m1000\u001b[0m\u001b[0;34m,\u001b[0m \u001b[0mp\u001b[0m\u001b[0;34m=\u001b[0m\u001b[0;36m50\u001b[0m\u001b[0;34m)\u001b[0m\u001b[0;34m\u001b[0m\u001b[0;34m\u001b[0m\u001b[0m\n\u001b[0m\u001b[1;32m     10\u001b[0m \u001b[0;34m\u001b[0m\u001b[0m\n\u001b[1;32m     11\u001b[0m   \u001b[0mshap_vals\u001b[0m\u001b[0;34m.\u001b[0m\u001b[0mappend\u001b[0m\u001b[0;34m(\u001b[0m\u001b[0mfirst\u001b[0m\u001b[0;34m)\u001b[0m\u001b[0;34m\u001b[0m\u001b[0;34m\u001b[0m\u001b[0m\n",
      "\u001b[0;31mNameError\u001b[0m: name 'SimulateData_simple' is not defined"
     ]
    }
   ],
   "source": [
    "start_time = time.time()\n",
    "random.seed(123)\n",
    "\n",
    "shap_vals, shap_avs, ft_importances, x_train, rlvFtrs = ([] for i in range(5))\n",
    "nSims = 50\n",
    "\n",
    "for i in range(nSims):\n",
    "\n",
    "  first, second, third, fourth, fifth = SimulateData_simple(N=1000, p=50)\n",
    "\n",
    "  shap_vals.append(first)\n",
    "  shap_avs.append(second)\n",
    "  ft_importances.append(first)\n",
    "  x_train.append(fourth)\n",
    "  rlvFtrs.append(fifth)\n",
    "\n",
    "\n",
    "print(\"--- %s seconds ---\" % (time.time() - start_time))"
   ]
  },
  {
   "cell_type": "code",
   "execution_count": 1,
   "metadata": {
    "colab": {
     "base_uri": "https://localhost:8080/",
     "height": 249
    },
    "colab_type": "code",
    "id": "erO9gWYoQZBi",
    "outputId": "c395403f-25c6-435a-dba7-46a07106bac5"
   },
   "outputs": [
    {
     "ename": "NameError",
     "evalue": "ignored",
     "output_type": "error",
     "traceback": [
      "\u001b[0;31m---------------------------------------------------------------------------\u001b[0m",
      "\u001b[0;31mNameError\u001b[0m                                 Traceback (most recent call last)",
      "\u001b[0;32m<ipython-input-1-c34d4c8406eb>\u001b[0m in \u001b[0;36m<module>\u001b[0;34m()\u001b[0m\n\u001b[0;32m----> 1\u001b[0;31m \u001b[0mstart_time\u001b[0m \u001b[0;34m=\u001b[0m \u001b[0mtime\u001b[0m\u001b[0;34m.\u001b[0m\u001b[0mtime\u001b[0m\u001b[0;34m(\u001b[0m\u001b[0;34m)\u001b[0m\u001b[0;34m\u001b[0m\u001b[0;34m\u001b[0m\u001b[0m\n\u001b[0m\u001b[1;32m      2\u001b[0m \u001b[0;34m\u001b[0m\u001b[0m\n\u001b[1;32m      3\u001b[0m \u001b[0mnSims\u001b[0m \u001b[0;34m=\u001b[0m \u001b[0;36m50\u001b[0m\u001b[0;34m\u001b[0m\u001b[0;34m\u001b[0m\u001b[0m\n\u001b[1;32m      4\u001b[0m \u001b[0;34m\u001b[0m\u001b[0m\n\u001b[1;32m      5\u001b[0m \u001b[0;32mfor\u001b[0m \u001b[0mi\u001b[0m \u001b[0;32min\u001b[0m \u001b[0mrange\u001b[0m\u001b[0;34m(\u001b[0m\u001b[0mnSims\u001b[0m\u001b[0;34m)\u001b[0m\u001b[0;34m:\u001b[0m\u001b[0;34m\u001b[0m\u001b[0;34m\u001b[0m\u001b[0m\n",
      "\u001b[0;31mNameError\u001b[0m: name 'time' is not defined"
     ]
    }
   ],
   "source": [
    "start_time = time.time()\n",
    "\n",
    "nSims = 50\n",
    "\n",
    "for i in range(nSims):\n",
    "\n",
    "  first, second, third, fourth, fifth = SimulateData_simple(N=1000, p=50)\n",
    "\n",
    " # shap_vals.append(first)\n",
    "  shap_avs.append(second)\n",
    "  ft_importances.append(first)\n",
    " # x_train.append(fourth)\n",
    "  rlvFtrs.append(fifth)\n",
    "\n",
    "\n",
    "print(\"--- %s seconds ---\" % (time.time() - start_time))"
   ]
  },
  {
   "cell_type": "code",
   "execution_count": 0,
   "metadata": {
    "colab": {
     "base_uri": "https://localhost:8080/",
     "height": 581
    },
    "colab_type": "code",
    "id": "W0CL1ngZRQjR",
    "outputId": "7e62c59c-60e3-4efd-a396-f1f59210a860"
   },
   "outputs": [
    {
     "data": {
      "image/png": "[encoded data removed]",
      "text/plain": [
       "<Figure size 576x684 with 1 Axes>"
      ]
     },
     "metadata": {
      "tags": []
     },
     "output_type": "display_data"
    }
   ],
   "source": [
    "shap.summary_plot(shap_vals)"
   ]
  },
  {
   "cell_type": "code",
   "execution_count": 0,
   "metadata": {
    "colab": {
     "base_uri": "https://localhost:8080/",
     "height": 68
    },
    "colab_type": "code",
    "id": "lB9HKD38UaIt",
    "outputId": "995c4810-5375-4667-8204-473574b12553"
   },
   "outputs": [
    {
     "data": {
      "text/plain": [
       "array([1, 0, 1, 0, 1, 0, 0, 1, 1, 0, 0, 0, 0, 0, 0, 0, 0, 0, 0, 0, 0, 0,\n",
       "       0, 0, 0, 0, 0, 0, 0, 0, 0, 0, 0, 0, 0, 0, 0, 0, 0, 0, 0, 0, 0, 0,\n",
       "       0, 0, 0, 0, 0, 0])"
      ]
     },
     "execution_count": 8,
     "metadata": {
      "tags": []
     },
     "output_type": "execute_result"
    }
   ],
   "source": [
    "rlvFtrs # The relevant features"
   ]
  },
  {
   "cell_type": "code",
   "execution_count": 0,
   "metadata": {
    "colab": {
     "base_uri": "https://localhost:8080/",
     "height": 265
    },
    "colab_type": "code",
    "id": "irgzAg4cXX6u",
    "outputId": "8053f563-1f8f-47b3-e253-a69aadb028b2"
   },
   "outputs": [
    {
     "data": {
      "image/png": "[encoded data removed]",
      "text/plain": [
       "<Figure size 432x288 with 1 Axes>"
      ]
     },
     "metadata": {
      "tags": []
     },
     "output_type": "display_data"
    }
   ],
   "source": [
    "plt.boxplot(shap_avs);"
   ]
  },
  {
   "cell_type": "code",
   "execution_count": 0,
   "metadata": {
    "colab": {
     "base_uri": "https://localhost:8080/",
     "height": 265
    },
    "colab_type": "code",
    "id": "Vtjs8IoYXYB2",
    "outputId": "935fd1df-f084-42da-8bde-f0d879d93fa5"
   },
   "outputs": [
    {
     "data": {
      "image/png": "[encoded data removed]",
      "text/plain": [
       "<Figure size 432x288 with 1 Axes>"
      ]
     },
     "metadata": {
      "tags": []
     },
     "output_type": "display_data"
    }
   ],
   "source": [
    "plt.boxplot(ft_importances);"
   ]
  },
  {
   "cell_type": "code",
   "execution_count": 9,
   "metadata": {
    "colab": {
     "base_uri": "https://localhost:8080/",
     "height": 36
    },
    "colab_type": "code",
    "id": "OnNGiSXjXbtz",
    "outputId": "de836dbc-81a3-4f2f-a7ef-0a622e3c92a3"
   },
   "outputs": [
    {
     "data": {
      "text/plain": [
       "0.5023057777777777"
      ]
     },
     "execution_count": 9,
     "metadata": {
      "tags": []
     },
     "output_type": "execute_result"
    }
   ],
   "source": [
    "rlvFtrs_oneArray = np.concatenate(rlvFtrs)\n",
    "shap_avs_oneArray = np.concatenate(shap_avs)\n",
    "\n",
    "fpr, tpr, thresholds = metrics.roc_curve(rlvFtrs_oneArray, shap_avs_oneArray)\n",
    "metrics.auc(fpr, tpr)"
   ]
  },
  {
   "cell_type": "code",
   "execution_count": 10,
   "metadata": {
    "colab": {
     "base_uri": "https://localhost:8080/",
     "height": 36
    },
    "colab_type": "code",
    "id": "ztRvNeU6FbQR",
    "outputId": "09a10377-7901-4c1e-ddbc-480572b5eb0e"
   },
   "outputs": [
    {
     "data": {
      "text/plain": [
       "(2500,)"
      ]
     },
     "execution_count": 10,
     "metadata": {
      "tags": []
     },
     "output_type": "execute_result"
    }
   ],
   "source": [
    "rlvFtrs_oneArray.shape\n"
   ]
  },
  {
   "cell_type": "code",
   "execution_count": 0,
   "metadata": {
    "colab": {},
    "colab_type": "code",
    "id": "OEBJe3AkGZQa"
   },
   "outputs": [],
   "source": [
    "rlvFtrs"
   ]
  },
  {
   "cell_type": "code",
   "execution_count": 23,
   "metadata": {},
   "outputs": [],
   "source": [
    "from datetime import timedelta\n",
    "\n",
    "class YouTubeVideo(object):\n",
    "    def __init__(self, id, width=400, height=300, start=timedelta()):\n",
    "        self.id = id\n",
    "        self.width = width\n",
    "        self.height = height\n",
    "        self.start = start.total_seconds()\n",
    "\n",
    "    def _repr_html_(self):\n",
    "        return \"\"\"\n",
    "            <iframe\n",
    "                width=\"%i\"\n",
    "                height=\"%i\"\n",
    "                src=\"http://www.youtube.com/embed/%s?start=%i\"\n",
    "                frameborder=\"0\"\n",
    "                allowfullscreen\n",
    "            ></iframe>\n",
    "        \"\"\"%(self.width, self.height, self.id, self.start)"
   ]
  },
  {
   "cell_type": "markdown",
   "metadata": {},
   "source": [
    "#### Relation of Reinforcement Learning to bandits"
   ]
  },
  {
   "cell_type": "code",
   "execution_count": 24,
   "metadata": {},
   "outputs": [
    {
     "data": {
      "text/html": [
       "\n",
       "            <iframe\n",
       "                width=\"400\"\n",
       "                height=\"300\"\n",
       "                src=\"http://www.youtube.com/embed/ZtP4eEYjJ2I?start=24\"\n",
       "                frameborder=\"0\"\n",
       "                allowfullscreen\n",
       "            ></iframe>\n",
       "        "
      ],
      "text/plain": [
       "<__main__.YouTubeVideo at 0x227e3d13240>"
      ]
     },
     "execution_count": 24,
     "metadata": {},
     "output_type": "execute_result"
    }
   ],
   "source": [
    "YouTubeVideo(\"ZtP4eEYjJ2I\", start=timedelta(seconds=24))"
   ]
  },
  {
   "cell_type": "code",
   "execution_count": 25,
   "metadata": {},
   "outputs": [
    {
     "data": {
      "text/html": [
       "\n",
       "            <iframe\n",
       "                width=\"400\"\n",
       "                height=\"300\"\n",
       "                src=\"http://www.youtube.com/embed/V1eYniJ0Rnk?start=25\"\n",
       "                frameborder=\"0\"\n",
       "                allowfullscreen\n",
       "            ></iframe>\n",
       "        "
      ],
      "text/plain": [
       "<__main__.YouTubeVideo at 0x227e3d13400>"
      ]
     },
     "execution_count": 25,
     "metadata": {},
     "output_type": "execute_result"
    }
   ],
   "source": [
    "YouTubeVideo(\"V1eYniJ0Rnk\", start=timedelta(seconds=25))"
   ]
  },
  {
   "cell_type": "code",
   "execution_count": 66,
   "metadata": {},
   "outputs": [
    {
     "data": {
      "text/plain": [
       "array([[ 0,  4,  8],\n",
       "       [ 1,  5,  9],\n",
       "       [ 2,  6, 10],\n",
       "       [ 3,  7, 11]])"
      ]
     },
     "execution_count": 66,
     "metadata": {},
     "output_type": "execute_result"
    }
   ],
   "source": [
    "np.arange(0,12).reshape(4, 3, order='F')"
   ]
  },
  {
   "cell_type": "code",
   "execution_count": 67,
   "metadata": {},
   "outputs": [
    {
     "data": {
      "text/plain": [
       "array([[ 0,  1,  2],\n",
       "       [ 3,  4,  5],\n",
       "       [ 6,  7,  8],\n",
       "       [ 9, 10, 11]])"
      ]
     },
     "execution_count": 67,
     "metadata": {},
     "output_type": "execute_result"
    }
   ],
   "source": [
    "np.arange(0,12).reshape(4, 3)"
   ]
  },
  {
   "cell_type": "code",
   "execution_count": 73,
   "metadata": {},
   "outputs": [
    {
     "data": {
      "text/plain": [
       "array([[ 1,  2,  3,  4,  5,  6,  7,  8,  9, 10],\n",
       "       [11, 12, 13, 14, 15, 16, 17, 18, 19, 20],\n",
       "       [21, 22, 23, 24, 25, 26, 27, 28, 29, 30],\n",
       "       [31, 32, 33, 34, 35, 36, 37, 38, 39, 40]])"
      ]
     },
     "execution_count": 73,
     "metadata": {},
     "output_type": "execute_result"
    }
   ],
   "source": [
    "allXs = []\n",
    "N=10\n",
    "p=4\n",
    "\n",
    "for i in range(p):\n",
    "  allXs.append([np.arange(1+i*N,1+N+i*N )])\n",
    "\n",
    "allXs\n",
    "np.concatenate(allXs)#.reshape(N, p, order='F')"
   ]
  },
  {
   "cell_type": "code",
   "execution_count": 70,
   "metadata": {},
   "outputs": [
    {
     "data": {
      "text/html": [
       "<div>\n",
       "<style scoped>\n",
       "    .dataframe tbody tr th:only-of-type {\n",
       "        vertical-align: middle;\n",
       "    }\n",
       "\n",
       "    .dataframe tbody tr th {\n",
       "        vertical-align: top;\n",
       "    }\n",
       "\n",
       "    .dataframe thead th {\n",
       "        text-align: right;\n",
       "    }\n",
       "</style>\n",
       "<table border=\"1\" class=\"dataframe\">\n",
       "  <thead>\n",
       "    <tr style=\"text-align: right;\">\n",
       "      <th></th>\n",
       "      <th>0</th>\n",
       "      <th>1</th>\n",
       "      <th>2</th>\n",
       "      <th>3</th>\n",
       "    </tr>\n",
       "  </thead>\n",
       "  <tbody>\n",
       "    <tr>\n",
       "      <th>0</th>\n",
       "      <td>1</td>\n",
       "      <td>23</td>\n",
       "      <td>6</td>\n",
       "      <td>28</td>\n",
       "    </tr>\n",
       "    <tr>\n",
       "      <th>1</th>\n",
       "      <td>11</td>\n",
       "      <td>33</td>\n",
       "      <td>16</td>\n",
       "      <td>38</td>\n",
       "    </tr>\n",
       "    <tr>\n",
       "      <th>2</th>\n",
       "      <td>21</td>\n",
       "      <td>4</td>\n",
       "      <td>26</td>\n",
       "      <td>9</td>\n",
       "    </tr>\n",
       "    <tr>\n",
       "      <th>3</th>\n",
       "      <td>31</td>\n",
       "      <td>14</td>\n",
       "      <td>36</td>\n",
       "      <td>19</td>\n",
       "    </tr>\n",
       "    <tr>\n",
       "      <th>4</th>\n",
       "      <td>2</td>\n",
       "      <td>24</td>\n",
       "      <td>7</td>\n",
       "      <td>29</td>\n",
       "    </tr>\n",
       "    <tr>\n",
       "      <th>5</th>\n",
       "      <td>12</td>\n",
       "      <td>34</td>\n",
       "      <td>17</td>\n",
       "      <td>39</td>\n",
       "    </tr>\n",
       "    <tr>\n",
       "      <th>6</th>\n",
       "      <td>22</td>\n",
       "      <td>5</td>\n",
       "      <td>27</td>\n",
       "      <td>10</td>\n",
       "    </tr>\n",
       "    <tr>\n",
       "      <th>7</th>\n",
       "      <td>32</td>\n",
       "      <td>15</td>\n",
       "      <td>37</td>\n",
       "      <td>20</td>\n",
       "    </tr>\n",
       "    <tr>\n",
       "      <th>8</th>\n",
       "      <td>3</td>\n",
       "      <td>25</td>\n",
       "      <td>8</td>\n",
       "      <td>30</td>\n",
       "    </tr>\n",
       "    <tr>\n",
       "      <th>9</th>\n",
       "      <td>13</td>\n",
       "      <td>35</td>\n",
       "      <td>18</td>\n",
       "      <td>40</td>\n",
       "    </tr>\n",
       "  </tbody>\n",
       "</table>\n",
       "</div>"
      ],
      "text/plain": [
       "    0   1   2   3\n",
       "0   1  23   6  28\n",
       "1  11  33  16  38\n",
       "2  21   4  26   9\n",
       "3  31  14  36  19\n",
       "4   2  24   7  29\n",
       "5  12  34  17  39\n",
       "6  22   5  27  10\n",
       "7  32  15  37  20\n",
       "8   3  25   8  30\n",
       "9  13  35  18  40"
      ]
     },
     "execution_count": 70,
     "metadata": {},
     "output_type": "execute_result"
    }
   ],
   "source": [
    "pd.DataFrame(np.concatenate(allXs).reshape(N, p, order='F')) "
   ]
  },
  {
   "cell_type": "code",
   "execution_count": null,
   "metadata": {},
   "outputs": [],
   "source": []
  }
 ],
 "metadata": {
  "colab": {
   "collapsed_sections": [],
   "name": "R2Python-Simulation2.ipynb",
   "provenance": []
  },
  "kernelspec": {
   "display_name": "Python 3",
   "language": "python",
   "name": "python3"
  },
  "language_info": {
   "codemirror_mode": {
    "name": "ipython",
    "version": 3
   },
   "file_extension": ".py",
   "mimetype": "text/x-python",
   "name": "python",
   "nbconvert_exporter": "python",
   "pygments_lexer": "ipython3",
   "version": "3.6.4"
  }
 },
 "nbformat": 4,
 "nbformat_minor": 1
}
